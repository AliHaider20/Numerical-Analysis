{
  "cells": [
    {
      "cell_type": "code",
      "execution_count": null,
      "metadata": {
        "id": "hvi65Sjv7mky"
      },
      "outputs": [],
      "source": [
        "import numpy as np\n",
        "import pandas as pd\n",
        "from time import time\n",
        "from sympy import *\n",
        "import autograd.numpy as autonp\n",
        "from autograd import grad, jacobian\n",
        "import matplotlib.pyplot as plt\n",
        "import math\n",
        "\n",
        "LA = np.linalg\n",
        "\n",
        "C=299792.458"
      ]
    },
    {
      "cell_type": "markdown",
      "metadata": {
        "id": "yXlhgGw8OeA9"
      },
      "source": [
        "# Problem Overview\n",
        "\n",
        "- Total 24 satellites slanted 55 degree divided in 6 planes.\n",
        "- Time difference = Transmitted time - Recieved time // t.\n",
        "- Distance between Object and satellite = c (speed of light) * Transmission time // d.\n",
        "- The final answer will contain 2 points of intersections of the signals emitting from the satellites.\n",
        "\n",
        "- **Problem** - Atomic clocks in the satellite have nano seconds precision but clocks on Earth aren't accurate. Which can lead to large difference in the distance calculation.\n",
        "Solution\n",
        "\n",
        "- **Solution** - Add an extra satellite in the equation.\n",
        "\n",
        "-  x, y, and z are the coordinates of the reciever.\n",
        "\n",
        "-  A, B, and C  are the coordinates of the satellites.\n",
        "\n",
        "*We are asked to calculate the position of the reciever (x,y,z) using numerical methods."
      ]
    },
    {
      "cell_type": "markdown",
      "metadata": {
        "id": "X7OLpo65Od-s"
      },
      "source": [
        "# Activities"
      ]
    },
    {
      "cell_type": "markdown",
      "metadata": {
        "id": "I67RA33-Od7w"
      },
      "source": [
        "## Activity 1\n",
        "\n",
        "- 1: Given the satellites co-ordinates find receiver's co-ordinates and time correction d using Multivariate Newton Raphson method.\n",
        "\n",
        "- 2: Construct a jacobian matrix for x, y, z, d - these are their partial derivatives.\n",
        "\n",
        "- 3: construct a vector for the initial guess.\n",
        "- 4: Apply the multivariante newton method and iterate.\n",
        "- 5: Find the error.\n",
        "- 6: Count the number of iterations needed to reach the smallest converence.\n",
        "- 7: Plot the location results - if possible."
      ]
    },
    {
      "cell_type": "code",
      "execution_count": null,
      "metadata": {
        "id": "uYe1of0PxhoC"
      },
      "outputs": [],
      "source": [
        "# Initializing the Satellites\n",
        "\n",
        "Sat1 = {\"A\": 15600, \"B\": 7540, \"C\": 20140, \"t\": 0.07074}\n",
        "Sat2 = {\"A\": 18760, \"B\":2750, \"C\": 18610, \"t\": 0.07220}\n",
        "Sat3 = {\"A\": 17610, \"B\": 14630, \"C\": 13480, \"t\": 0.07690}\n",
        "Sat4 = {\"A\": 19170, \"B\": 610, \"C\": 18390, \"t\": 0.07242}"
      ]
    },
    {
      "cell_type": "code",
      "execution_count": null,
      "metadata": {
        "id": "5devD65BsMxG"
      },
      "outputs": [],
      "source": [
        "def Recur_Newton(initial_v, inv = False):\n",
        "\n",
        "  for i in range(10000):\n",
        "      x=initial_v[0]\n",
        "      y=initial_v[1]\n",
        "      z=initial_v[2]\n",
        "      d=initial_v[3]\n",
        "\n",
        "      # Calculating satellites distance from the receiver's location.\n",
        "      R1=(x-Sat1[\"A\"])**2+(y-Sat1[\"B\"])**2+(z-Sat1[\"C\"])**2-(C*(Sat1['t']-d))**2\n",
        "      R2=(x-Sat2[\"A\"])**2+(y-Sat2[\"B\"])**2+(z-Sat2[\"C\"])**2-(C*(Sat2['t']-d))**2\n",
        "      R3=(x-Sat3[\"A\"])**2+(y-Sat3[\"B\"])**2+(z-Sat3[\"C\"])**2-(C*(Sat3['t']-d))**2\n",
        "      R4=(x-Sat4[\"A\"])**2+(y-Sat4[\"B\"])**2+(z-Sat4[\"C\"])**2-(C*(Sat4['t']-d))**2\n",
        "\n",
        "      Rs = np.array([[R1], [R2], [R3], [R4]])\n",
        "\n",
        "      # Calculating Jacobi Matrix\n",
        "      J=np.array([[(2*x-2*Sat1[\"A\"]), (2*y-2*Sat1[\"B\"]), (2*z-2*Sat1['C']), (-2*C**2*d+2*C**2*Sat1['t'])],\n",
        "                  [(2*x-2*Sat2[\"A\"]), (2*y-2*Sat2[\"B\"]), (2*z-2*Sat2['C']), (-2*C**2*d+2*C**2*Sat2['t'])],\n",
        "                  [(2*x-2*Sat3[\"A\"]), (2*y-2*Sat3[\"B\"]), (2*z-2*Sat3['C']), (-2*C**2*d+2*C**2*Sat3['t'])],\n",
        "                  [(2*x-2*Sat4[\"A\"]), (2*y-2*Sat4[\"B\"]), (2*z-2*Sat4['C']), (-2*C**2*d+2*C**2*Sat4['t'])]])\n",
        "      \n",
        "      A = J.T * J\n",
        "      b = -J.T * Rs \n",
        "      v = A/b\n",
        "      v = np.dot(LA.pinv(J), -Rs)\n",
        "      initial_v += v.sum(axis=1)\n",
        "  return initial_v\n",
        "\n",
        "def Multivariate_Newton():\n",
        "\n",
        "  # Far Earth Initials\n",
        "  Far_earth = np.array([1000,1000, 50000,0], dtype=float)\n",
        "  far = Recur_Newton(Far_earth)  # Calculating far earth solutions.\n",
        "\n",
        "\n",
        "  # Near Earth Initials\n",
        "  Near_earth = np.array([0,0,6370,0], dtype=float)\n",
        "  near = Recur_Newton(Near_earth) # Calculating Near earth solutions.\n",
        "\n",
        "  \n",
        "  return far, near"
      ]
    },
    {
      "cell_type": "code",
      "execution_count": null,
      "metadata": {
        "colab": {
          "base_uri": "https://localhost:8080/",
          "height": 192
        },
        "id": "IfPx39_cNxkm",
        "outputId": "703d137d-2ebe-454b-a518-e7703a180693"
      },
      "outputs": [
        {
          "output_type": "stream",
          "name": "stderr",
          "text": [
            "/usr/local/lib/python3.7/dist-packages/ipykernel_launcher.py:25: RuntimeWarning: divide by zero encountered in true_divide\n"
          ]
        },
        {
          "output_type": "execute_result",
          "data": {
            "text/plain": [
              "           Near Earth    Far Earth\n",
              "X          -41.772710   -39.747837\n",
              "Y          -16.789194  -134.274144\n",
              "Z         6370.059559 -9413.624554\n",
              "Distance    -0.003202     0.185173"
            ],
            "text/html": [
              "\n",
              "  <div id=\"df-28058054-6b25-4e00-ae78-50bdf0fa4bd5\">\n",
              "    <div class=\"colab-df-container\">\n",
              "      <div>\n",
              "<style scoped>\n",
              "    .dataframe tbody tr th:only-of-type {\n",
              "        vertical-align: middle;\n",
              "    }\n",
              "\n",
              "    .dataframe tbody tr th {\n",
              "        vertical-align: top;\n",
              "    }\n",
              "\n",
              "    .dataframe thead th {\n",
              "        text-align: right;\n",
              "    }\n",
              "</style>\n",
              "<table border=\"1\" class=\"dataframe\">\n",
              "  <thead>\n",
              "    <tr style=\"text-align: right;\">\n",
              "      <th></th>\n",
              "      <th>Near Earth</th>\n",
              "      <th>Far Earth</th>\n",
              "    </tr>\n",
              "  </thead>\n",
              "  <tbody>\n",
              "    <tr>\n",
              "      <th>X</th>\n",
              "      <td>-41.772710</td>\n",
              "      <td>-39.747837</td>\n",
              "    </tr>\n",
              "    <tr>\n",
              "      <th>Y</th>\n",
              "      <td>-16.789194</td>\n",
              "      <td>-134.274144</td>\n",
              "    </tr>\n",
              "    <tr>\n",
              "      <th>Z</th>\n",
              "      <td>6370.059559</td>\n",
              "      <td>-9413.624554</td>\n",
              "    </tr>\n",
              "    <tr>\n",
              "      <th>Distance</th>\n",
              "      <td>-0.003202</td>\n",
              "      <td>0.185173</td>\n",
              "    </tr>\n",
              "  </tbody>\n",
              "</table>\n",
              "</div>\n",
              "      <button class=\"colab-df-convert\" onclick=\"convertToInteractive('df-28058054-6b25-4e00-ae78-50bdf0fa4bd5')\"\n",
              "              title=\"Convert this dataframe to an interactive table.\"\n",
              "              style=\"display:none;\">\n",
              "        \n",
              "  <svg xmlns=\"http://www.w3.org/2000/svg\" height=\"24px\"viewBox=\"0 0 24 24\"\n",
              "       width=\"24px\">\n",
              "    <path d=\"M0 0h24v24H0V0z\" fill=\"none\"/>\n",
              "    <path d=\"M18.56 5.44l.94 2.06.94-2.06 2.06-.94-2.06-.94-.94-2.06-.94 2.06-2.06.94zm-11 1L8.5 8.5l.94-2.06 2.06-.94-2.06-.94L8.5 2.5l-.94 2.06-2.06.94zm10 10l.94 2.06.94-2.06 2.06-.94-2.06-.94-.94-2.06-.94 2.06-2.06.94z\"/><path d=\"M17.41 7.96l-1.37-1.37c-.4-.4-.92-.59-1.43-.59-.52 0-1.04.2-1.43.59L10.3 9.45l-7.72 7.72c-.78.78-.78 2.05 0 2.83L4 21.41c.39.39.9.59 1.41.59.51 0 1.02-.2 1.41-.59l7.78-7.78 2.81-2.81c.8-.78.8-2.07 0-2.86zM5.41 20L4 18.59l7.72-7.72 1.47 1.35L5.41 20z\"/>\n",
              "  </svg>\n",
              "      </button>\n",
              "      \n",
              "  <style>\n",
              "    .colab-df-container {\n",
              "      display:flex;\n",
              "      flex-wrap:wrap;\n",
              "      gap: 12px;\n",
              "    }\n",
              "\n",
              "    .colab-df-convert {\n",
              "      background-color: #E8F0FE;\n",
              "      border: none;\n",
              "      border-radius: 50%;\n",
              "      cursor: pointer;\n",
              "      display: none;\n",
              "      fill: #1967D2;\n",
              "      height: 32px;\n",
              "      padding: 0 0 0 0;\n",
              "      width: 32px;\n",
              "    }\n",
              "\n",
              "    .colab-df-convert:hover {\n",
              "      background-color: #E2EBFA;\n",
              "      box-shadow: 0px 1px 2px rgba(60, 64, 67, 0.3), 0px 1px 3px 1px rgba(60, 64, 67, 0.15);\n",
              "      fill: #174EA6;\n",
              "    }\n",
              "\n",
              "    [theme=dark] .colab-df-convert {\n",
              "      background-color: #3B4455;\n",
              "      fill: #D2E3FC;\n",
              "    }\n",
              "\n",
              "    [theme=dark] .colab-df-convert:hover {\n",
              "      background-color: #434B5C;\n",
              "      box-shadow: 0px 1px 3px 1px rgba(0, 0, 0, 0.15);\n",
              "      filter: drop-shadow(0px 1px 2px rgba(0, 0, 0, 0.3));\n",
              "      fill: #FFFFFF;\n",
              "    }\n",
              "  </style>\n",
              "\n",
              "      <script>\n",
              "        const buttonEl =\n",
              "          document.querySelector('#df-28058054-6b25-4e00-ae78-50bdf0fa4bd5 button.colab-df-convert');\n",
              "        buttonEl.style.display =\n",
              "          google.colab.kernel.accessAllowed ? 'block' : 'none';\n",
              "\n",
              "        async function convertToInteractive(key) {\n",
              "          const element = document.querySelector('#df-28058054-6b25-4e00-ae78-50bdf0fa4bd5');\n",
              "          const dataTable =\n",
              "            await google.colab.kernel.invokeFunction('convertToInteractive',\n",
              "                                                     [key], {});\n",
              "          if (!dataTable) return;\n",
              "\n",
              "          const docLinkHtml = 'Like what you see? Visit the ' +\n",
              "            '<a target=\"_blank\" href=https://colab.research.google.com/notebooks/data_table.ipynb>data table notebook</a>'\n",
              "            + ' to learn more about interactive tables.';\n",
              "          element.innerHTML = '';\n",
              "          dataTable['output_type'] = 'display_data';\n",
              "          await google.colab.output.renderOutput(dataTable, element);\n",
              "          const docLink = document.createElement('div');\n",
              "          docLink.innerHTML = docLinkHtml;\n",
              "          element.appendChild(docLink);\n",
              "        }\n",
              "      </script>\n",
              "    </div>\n",
              "  </div>\n",
              "  "
            ]
          },
          "metadata": {},
          "execution_count": 33
        }
      ],
      "source": [
        "start = time()\n",
        "far, near= Multivariate_Newton()\n",
        "Newtontime = time()- start\n",
        "newton_df = pd.DataFrame({\"Near Earth\": near, \"Far Earth\": far}, index=[\"X\", \"Y\", \"Z\", \"Distance\"])\n",
        "newton_df"
      ]
    },
    {
      "cell_type": "markdown",
      "metadata": {
        "id": "aqPltkSmLTuf"
      },
      "source": [
        "# Activity 2"
      ]
    },
    {
      "cell_type": "markdown",
      "metadata": {
        "id": "D2hwRobKrMSa"
      },
      "source": [
        "Transforming the equation in this form.\n",
        "$$ x\\vec u_x + y\\vec u_y + z\\vec y_z + d\\vec u_d + \\vec w = 0 $$\n",
        "\n",
        "$$ 0 = det[\\vec u_y|\\vec u_z|x\\vec u_x + y\\vec u_y + z\\vec u_z + d\\vec u_d + \\vec w] $$\n",
        "\n",
        "$$ 0 = det[\\vec u_y|\\vec u_z|x\\vec u_x] + det[\\vec u_y|\\vec u_z|y\\vec u_y] + det[\\vec u_y|\\vec u_z|z\\vec u_z] + det[\\vec u_y|\\vec u_z|d\\vec u_d] + det[\\vec u_y|\\vec u_z|\\vec w] $$"
      ]
    },
    {
      "cell_type": "code",
      "execution_count": null,
      "metadata": {
        "id": "mbUYmsxn7v0i"
      },
      "outputs": [],
      "source": [
        "def Quadratic():\n",
        "  \n",
        "  w_1 = -C**2*(Sat1[\"t\"]**2 - Sat4[\"t\"]**2)  + Sat1['A']**2 - Sat4[\"A\"]**2 + Sat1['B']**2 - Sat4['B']**2 + Sat1['C']**2 - Sat4[\"C\"]**2\n",
        "  w_2 = -C**2*(Sat1[\"t\"]**2 - Sat3[\"t\"]**2)  + Sat1['A']**2 - Sat3['A']**2 + Sat1['B']**2 - Sat3['B']**2 + Sat1['C']**2 - Sat3['C']**2\n",
        "  w_3 = -C**2*(Sat1[\"t\"]**2 - Sat2[\"t\"]**2)  + Sat1['A']**2 - Sat2['A']**2 + Sat1['B']**2 - Sat2['B']**2 + Sat1['C']**2 - Sat2['C']**2\n",
        "\n",
        "  u_x_1 = 2*(Sat4['A'] - Sat1['A'])\n",
        "  u_x_2 = 2*(Sat3['A'] - Sat1['A'])\n",
        "  u_x_3 = 2*(Sat2['A'] - Sat1['A'])\n",
        "\n",
        "  u_y_1 = 2*(Sat4[\"B\"] - Sat1['B'])\n",
        "  u_y_2 = 2*(Sat3['B'] - Sat1['B'])\n",
        "  u_y_3 = 2*(Sat2['B'] - Sat1['B'])\n",
        "\n",
        "  u_z_1 = 2*(Sat4[\"C\"] - Sat1['C'])\n",
        "  u_z_2 = 2*(Sat3['C'] - Sat1['C'])\n",
        "  u_z_3 = 2*(Sat2['C'] - Sat1['C'])\n",
        "\n",
        "  u_d_1 = -2*C**2*(Sat4['t'] - Sat1[\"t\"])\n",
        "  u_d_2 = -2*C**2*(Sat3['t'] - Sat1[\"t\"])\n",
        "  u_d_3 = -2*C**2*(Sat2['t'] - Sat1[\"t\"])\n",
        "  \n",
        "  # Solving the below matrices for A, B, and C w.r.t x, y, z by calculating determinants of the matrices.\n",
        "\n",
        "  Mx1 = [[u_y_1, u_z_1, u_x_1],[u_y_2, u_z_2, u_x_2], [u_y_3, u_z_3, u_x_3]]\n",
        "  ax = LA.det(Mx1)  \n",
        "\n",
        "  Mx2 = [[u_y_1, u_z_1, u_d_1], [u_y_2, u_z_2, u_d_2], [u_y_3, u_z_3, u_d_3]]\n",
        "  bx = LA.det(Mx2)\n",
        "\n",
        "  Mx3 = [[u_y_1, u_z_1, w_1], [u_y_2, u_z_2, w_2], [u_y_3, u_z_3, w_3]]\n",
        "  cx = LA.det(Mx3)\n",
        "\n",
        "  My1 = [[u_x_1, u_z_1, u_y_1], [u_x_2, u_z_2, u_y_2], [u_x_3, u_z_3, u_y_3]]\n",
        "  ay = LA.det(My1)\n",
        "\n",
        "  My2 = [[u_x_1, u_z_1, u_d_1], [u_x_2, u_z_2, u_d_2], [u_x_3, u_z_3, u_d_3]]\n",
        "  by = LA.det(My2);\n",
        "\n",
        "  My3 = [[u_x_1, u_z_1, w_1], [u_x_2, u_z_2, w_2], [u_x_3, u_z_3, w_3]]\n",
        "  cy = LA.det(My3)\n",
        "\n",
        "  Mz1 = [[u_x_1, u_y_1, u_z_1], [u_x_2, u_y_2, u_z_2], [u_x_3, u_y_3, u_z_3]]\n",
        "  az = LA.det(Mz1)\n",
        "\n",
        "  Mz2 = [[u_x_1, u_y_1, u_d_1], [u_x_2, u_y_2, u_d_2], [u_x_3, u_y_3, u_d_3]]\n",
        "  bz = LA.det(Mz2)\n",
        "\n",
        "  Mz3 = [[u_x_1, u_y_1, w_1], [u_x_2, u_y_2, w_2], [u_x_3, u_y_3, w_3]]\n",
        "  cz = LA.det(Mz3)\n",
        "\n",
        "  q_a = (bx/ax)**2 + (by/ay)**2 + (bz/az)**2 - C**2\n",
        "  q_b = 2*(bx/ax)*(cx/ax + Sat1['A']) + 2*(by/ay)*(cy/ay + Sat1['B']) + 2*(bz/az)*(cz/az + Sat1['C']) + 2*(C**2)*Sat1['t']\n",
        "  q_c = (cx/ax + Sat1['A'])**2 + (cy/ay + Sat1['B'])**2 + (cz/az + Sat1['C'])**2 - (C**2)*Sat1['t']**2\n",
        "\n",
        "\n",
        "  if q_b > 0:\n",
        "    d_pos = - ( ( q_b + np.sqrt( (q_b**2) - (4 * q_a * q_c) ) ) / (2*q_a) )\n",
        "    d_neg = - ( ( 2 * q_c ) / ( q_b + np.sqrt( q_b**2 - 4 * q_a * q_c ) ) )\n",
        "  else:\n",
        "    d_pos = ( -q_b + np.sqrt( q_b**2 - 4 * q_a * q_c ) ) / ( 2 * q_a )\n",
        "    d_neg = ( 2 * q_c ) / ( -q_b + np.sqrt( q_b**2 - 4 * q_a * q_c) )\n",
        "\n",
        "  x_sol_pos, x_sol_neg = -(cx / ax + (bx / ax) * d_pos), -(cx / ax + (bx / ax) * d_neg)\n",
        "  y_sol_pos, y_sol_neg = -(cy / ay + (by / ay) * d_pos), -(cy / ay + (by / ay) * d_neg) \n",
        "  z_sol_pos, z_sol_neg = -(cz / az + (bz / az) * d_pos), -(cz / az + (bz / az) * d_neg)\n",
        "\n",
        "  dis_pos = np.sqrt(x_sol_pos**2 + y_sol_pos**2 + z_sol_pos**2) - 6370\n",
        "  dis_neg = np.sqrt(x_sol_neg**2 + y_sol_neg**2 + z_sol_neg**2) - 6370\n",
        "\n",
        "  return {\"X\": (x_sol_neg, x_sol_pos), \"Y\": (y_sol_neg, y_sol_pos), \"Z\": (z_sol_neg, z_sol_pos), \"Distance\": (d_neg, d_pos)} "
      ]
    },
    {
      "cell_type": "code",
      "execution_count": null,
      "metadata": {
        "colab": {
          "base_uri": "https://localhost:8080/"
        },
        "id": "eKn0BRhD5ge5",
        "outputId": "0cbea666-9ba5-41e3-ba7e-e3f17e7b1ba2"
      },
      "outputs": [
        {
          "output_type": "stream",
          "name": "stdout",
          "text": [
            "Quadratic function takes 0.0005574226379394531 micro seconds\n"
          ]
        }
      ],
      "source": [
        "start =  time()\n",
        "Quadratic()\n",
        "quadratic_time = time() - start\n",
        "quad_df = pd.DataFrame(Quadratic(), index=['Near Earth', \"Far Earth\"]).T\n",
        "print(f\"Quadratic function takes {quadratic_time} micro seconds\")"
      ]
    },
    {
      "cell_type": "markdown",
      "source": [
        "## Comparison of the methods."
      ],
      "metadata": {
        "id": "envUZtH28toQ"
      }
    },
    {
      "cell_type": "code",
      "source": [
        "print(f\"Newton {Newtontime} - Quadratic {quadratic_time} = \", Newtontime-quadratic_time)"
      ],
      "metadata": {
        "colab": {
          "base_uri": "https://localhost:8080/"
        },
        "id": "RvSBg5fF8xuy",
        "outputId": "258e0ae9-d30a-4512-efaa-ebe5e2bc591c"
      },
      "execution_count": null,
      "outputs": [
        {
          "output_type": "stream",
          "name": "stdout",
          "text": [
            "Newton 2.142479658126831 - Quadratic 0.0005574226379394531 =  2.1419222354888916\n"
          ]
        }
      ]
    },
    {
      "cell_type": "code",
      "source": [
        "print(\"Newton - Quadratic\")\n",
        "newton_df - quad_df"
      ],
      "metadata": {
        "colab": {
          "base_uri": "https://localhost:8080/",
          "height": 192
        },
        "id": "gBW9Jqnq9Hsb",
        "outputId": "e366902a-1929-4a43-dd8d-efde0018d03b"
      },
      "execution_count": null,
      "outputs": [
        {
          "output_type": "stream",
          "name": "stdout",
          "text": [
            "Newton - Quadratic\n"
          ]
        },
        {
          "output_type": "execute_result",
          "data": {
            "text/plain": [
              "            Near Earth     Far Earth\n",
              "X        -4.524736e-11 -1.386269e-11\n",
              "Y        -1.817568e-11  4.092726e-12\n",
              "Z         5.456968e-12 -1.091394e-10\n",
              "Distance -1.019150e-16  3.053113e-16"
            ],
            "text/html": [
              "\n",
              "  <div id=\"df-a3bc1567-d5d3-459c-a680-29834d9fed7e\">\n",
              "    <div class=\"colab-df-container\">\n",
              "      <div>\n",
              "<style scoped>\n",
              "    .dataframe tbody tr th:only-of-type {\n",
              "        vertical-align: middle;\n",
              "    }\n",
              "\n",
              "    .dataframe tbody tr th {\n",
              "        vertical-align: top;\n",
              "    }\n",
              "\n",
              "    .dataframe thead th {\n",
              "        text-align: right;\n",
              "    }\n",
              "</style>\n",
              "<table border=\"1\" class=\"dataframe\">\n",
              "  <thead>\n",
              "    <tr style=\"text-align: right;\">\n",
              "      <th></th>\n",
              "      <th>Near Earth</th>\n",
              "      <th>Far Earth</th>\n",
              "    </tr>\n",
              "  </thead>\n",
              "  <tbody>\n",
              "    <tr>\n",
              "      <th>X</th>\n",
              "      <td>-4.524736e-11</td>\n",
              "      <td>-1.386269e-11</td>\n",
              "    </tr>\n",
              "    <tr>\n",
              "      <th>Y</th>\n",
              "      <td>-1.817568e-11</td>\n",
              "      <td>4.092726e-12</td>\n",
              "    </tr>\n",
              "    <tr>\n",
              "      <th>Z</th>\n",
              "      <td>5.456968e-12</td>\n",
              "      <td>-1.091394e-10</td>\n",
              "    </tr>\n",
              "    <tr>\n",
              "      <th>Distance</th>\n",
              "      <td>-1.019150e-16</td>\n",
              "      <td>3.053113e-16</td>\n",
              "    </tr>\n",
              "  </tbody>\n",
              "</table>\n",
              "</div>\n",
              "      <button class=\"colab-df-convert\" onclick=\"convertToInteractive('df-a3bc1567-d5d3-459c-a680-29834d9fed7e')\"\n",
              "              title=\"Convert this dataframe to an interactive table.\"\n",
              "              style=\"display:none;\">\n",
              "        \n",
              "  <svg xmlns=\"http://www.w3.org/2000/svg\" height=\"24px\"viewBox=\"0 0 24 24\"\n",
              "       width=\"24px\">\n",
              "    <path d=\"M0 0h24v24H0V0z\" fill=\"none\"/>\n",
              "    <path d=\"M18.56 5.44l.94 2.06.94-2.06 2.06-.94-2.06-.94-.94-2.06-.94 2.06-2.06.94zm-11 1L8.5 8.5l.94-2.06 2.06-.94-2.06-.94L8.5 2.5l-.94 2.06-2.06.94zm10 10l.94 2.06.94-2.06 2.06-.94-2.06-.94-.94-2.06-.94 2.06-2.06.94z\"/><path d=\"M17.41 7.96l-1.37-1.37c-.4-.4-.92-.59-1.43-.59-.52 0-1.04.2-1.43.59L10.3 9.45l-7.72 7.72c-.78.78-.78 2.05 0 2.83L4 21.41c.39.39.9.59 1.41.59.51 0 1.02-.2 1.41-.59l7.78-7.78 2.81-2.81c.8-.78.8-2.07 0-2.86zM5.41 20L4 18.59l7.72-7.72 1.47 1.35L5.41 20z\"/>\n",
              "  </svg>\n",
              "      </button>\n",
              "      \n",
              "  <style>\n",
              "    .colab-df-container {\n",
              "      display:flex;\n",
              "      flex-wrap:wrap;\n",
              "      gap: 12px;\n",
              "    }\n",
              "\n",
              "    .colab-df-convert {\n",
              "      background-color: #E8F0FE;\n",
              "      border: none;\n",
              "      border-radius: 50%;\n",
              "      cursor: pointer;\n",
              "      display: none;\n",
              "      fill: #1967D2;\n",
              "      height: 32px;\n",
              "      padding: 0 0 0 0;\n",
              "      width: 32px;\n",
              "    }\n",
              "\n",
              "    .colab-df-convert:hover {\n",
              "      background-color: #E2EBFA;\n",
              "      box-shadow: 0px 1px 2px rgba(60, 64, 67, 0.3), 0px 1px 3px 1px rgba(60, 64, 67, 0.15);\n",
              "      fill: #174EA6;\n",
              "    }\n",
              "\n",
              "    [theme=dark] .colab-df-convert {\n",
              "      background-color: #3B4455;\n",
              "      fill: #D2E3FC;\n",
              "    }\n",
              "\n",
              "    [theme=dark] .colab-df-convert:hover {\n",
              "      background-color: #434B5C;\n",
              "      box-shadow: 0px 1px 3px 1px rgba(0, 0, 0, 0.15);\n",
              "      filter: drop-shadow(0px 1px 2px rgba(0, 0, 0, 0.3));\n",
              "      fill: #FFFFFF;\n",
              "    }\n",
              "  </style>\n",
              "\n",
              "      <script>\n",
              "        const buttonEl =\n",
              "          document.querySelector('#df-a3bc1567-d5d3-459c-a680-29834d9fed7e button.colab-df-convert');\n",
              "        buttonEl.style.display =\n",
              "          google.colab.kernel.accessAllowed ? 'block' : 'none';\n",
              "\n",
              "        async function convertToInteractive(key) {\n",
              "          const element = document.querySelector('#df-a3bc1567-d5d3-459c-a680-29834d9fed7e');\n",
              "          const dataTable =\n",
              "            await google.colab.kernel.invokeFunction('convertToInteractive',\n",
              "                                                     [key], {});\n",
              "          if (!dataTable) return;\n",
              "\n",
              "          const docLinkHtml = 'Like what you see? Visit the ' +\n",
              "            '<a target=\"_blank\" href=https://colab.research.google.com/notebooks/data_table.ipynb>data table notebook</a>'\n",
              "            + ' to learn more about interactive tables.';\n",
              "          element.innerHTML = '';\n",
              "          dataTable['output_type'] = 'display_data';\n",
              "          await google.colab.output.renderOutput(dataTable, element);\n",
              "          const docLink = document.createElement('div');\n",
              "          docLink.innerHTML = docLinkHtml;\n",
              "          element.appendChild(docLink);\n",
              "        }\n",
              "      </script>\n",
              "    </div>\n",
              "  </div>\n",
              "  "
            ]
          },
          "metadata": {},
          "execution_count": 37
        }
      ]
    },
    {
      "cell_type": "markdown",
      "source": [
        "### As Quadratic is faster and accurate we'll be using it for the rest of the activities."
      ],
      "metadata": {
        "id": "O43oE0kz9ggW"
      }
    },
    {
      "cell_type": "markdown",
      "metadata": {
        "id": "mMw__Gum5i80"
      },
      "source": [
        "# Activity 4: "
      ]
    },
    {
      "cell_type": "code",
      "execution_count": null,
      "metadata": {
        "id": "0EoTTUg3Ptdq"
      },
      "outputs": [],
      "source": [
        "# Initializing the Satellites\n",
        "class Satellite:\n",
        "  def __init__(self, d, phi=None, theta=None):\n",
        "    P = 26570\n",
        "    dti=10**-8\n",
        "    self.phi=phi*np.pi/8\n",
        "    self.theta=(phi-1)*np.pi/2\n",
        "    self.A=(P*np.cos(self.phi)*np.cos(self.theta))\n",
        "    self.B=(P*np.cos(self.phi)*np.sin(self.theta))\n",
        "    self.C=P*np.sin(self.phi)\n",
        "    self.R=np.sqrt(self.A**2+self.B**2+(self.C-6370)**2)\n",
        "    self.time=d+(self.R/C)\n",
        "  \n",
        "  def get_cords(self):\n",
        "    return self.A, self.B, self.C\n",
        "\n",
        "Sat1 = Satellite(0.0001, 1 )\n",
        "Sat2 = Satellite(0.0001, 2)\n",
        "Sat3 = Satellite(0.0001, 3)\n",
        "Sat4 = Satellite(0.0001, 4)"
      ]
    },
    {
      "cell_type": "code",
      "execution_count": null,
      "metadata": {
        "id": "eQ_aKOQEYNJS"
      },
      "outputs": [],
      "source": [
        "def Quad(t1, t2, t3, t4):\n",
        "  w_1 = -C**2*(t1**2 - t4**2)  + Sat1.A**2 - Sat4.A**2 + Sat1.B**2 - Sat4.B**2 + Sat1.C**2 - Sat4.C**2\n",
        "  w_2 = -C**2*(t1**2 - t3**2)  + Sat1.A**2 - Sat3.A**2 + Sat1.B**2 - Sat3.B**2 + Sat1.C**2 - Sat3.C**2\n",
        "  w_3 = -C**2*(t1**2 - t2**2)  + Sat1.A**2 - Sat2.A**2 + Sat1.B**2 - Sat2.B**2 + Sat1.C**2 - Sat2.C**2\n",
        "\n",
        "  u_x_1 = 2*(Sat4.A - Sat1.A)\n",
        "  u_x_2 = 2*(Sat3.A - Sat1.A)\n",
        "  u_x_3 = 2*(Sat2.A - Sat1.A)\n",
        "\n",
        "  u_y_1 = 2*(Sat4.B - Sat1.B)\n",
        "  u_y_2 = 2*(Sat3.B - Sat1.B)\n",
        "  u_y_3 = 2*(Sat2.B - Sat1.B)\n",
        "\n",
        "  u_z_1 = 2*(Sat4.C - Sat1.C)\n",
        "  u_z_2 = 2*(Sat3.C - Sat1.C)\n",
        "  u_z_3 = 2*(Sat2.C - Sat1.C)\n",
        "\n",
        "  u_d_1 = -2*C**2*(t4 - t1)\n",
        "  u_d_2 = -2*C**2*(t3 - t1)\n",
        "  u_d_3 = -2*C**2*(t2 - t1)\n",
        "  \n",
        "  # Solving the below matrices for A, B, and C w.r.t x, y, z by calculating determinants of the matrices.\n",
        "\n",
        "  Mx1 = [[u_y_1, u_z_1, u_x_1],[u_y_2, u_z_2, u_x_2], [u_y_3, u_z_3, u_x_3]]\n",
        "  ax = LA.det(Mx1)  \n",
        "\n",
        "  Mx2 = [[u_y_1, u_z_1, u_d_1], [u_y_2, u_z_2, u_d_2], [u_y_3, u_z_3, u_d_3]]\n",
        "  bx = LA.det(Mx2)\n",
        "\n",
        "  Mx3 = [[u_y_1, u_z_1, w_1], [u_y_2, u_z_2, w_2], [u_y_3, u_z_3, w_3]]\n",
        "  cx = LA.det(Mx3)\n",
        "\n",
        "  My1 = [[u_x_1, u_z_1, u_y_1], [u_x_2, u_z_2, u_y_2], [u_x_3, u_z_3, u_y_3]]\n",
        "  ay = LA.det(My1)\n",
        "\n",
        "  My2 = [[u_x_1, u_z_1, u_d_1], [u_x_2, u_z_2, u_d_2], [u_x_3, u_z_3, u_d_3]]\n",
        "  by = LA.det(My2);\n",
        "\n",
        "  My3 = [[u_x_1, u_z_1, w_1], [u_x_2, u_z_2, w_2], [u_x_3, u_z_3, w_3]]\n",
        "  cy = LA.det(My3)\n",
        "\n",
        "  Mz1 = [[u_x_1, u_y_1, u_z_1], [u_x_2, u_y_2, u_z_2], [u_x_3, u_y_3, u_z_3]]\n",
        "  az = LA.det(Mz1)\n",
        "\n",
        "  Mz2 = [[u_x_1, u_y_1, u_d_1], [u_x_2, u_y_2, u_d_2], [u_x_3, u_y_3, u_d_3]]\n",
        "  bz = LA.det(Mz2)\n",
        "\n",
        "  Mz3 = [[u_x_1, u_y_1, w_1], [u_x_2, u_y_2, w_2], [u_x_3, u_y_3, w_3]]\n",
        "  cz = LA.det(Mz3)\n",
        "\n",
        "  q_a = (bx/ax)**2 + (by/ay)**2 + (bz/az)**2 - C**2\n",
        "  q_b = 2*(bx/ax)*(cx/ax + Sat1.A) + 2*(by/ay)*(cy/ay + Sat1.B) + 2*(bz/az)*(cz/az + Sat1.C) + 2*(C**2)*t1\n",
        "  q_c = (cx/ax + Sat1.A)**2 + (cy/ay + Sat1.B)**2 + (cz/az + Sat1.C)**2 - (C**2)*t1**2\n",
        "\n",
        "\n",
        "  if q_b > 0:\n",
        "    d_pos = - ( ( q_b + np.sqrt( (q_b**2) - (4 * q_a * q_c) ) ) / (2*q_a) )\n",
        "    d_neg = - ( ( 2 * q_c ) / ( q_b + np.sqrt( q_b**2 - 4 * q_a * q_c ) ) )\n",
        "  else:\n",
        "    d_pos = ( -q_b + np.sqrt( q_b**2 - 4 * q_a * q_c ) ) / ( 2 * q_a )\n",
        "    d_neg = ( 2 * q_c ) / ( -q_b + np.sqrt( q_b**2 - 4 * q_a * q_c) )\n",
        "\n",
        "  x_sol_pos, x_sol_neg = -(cx / ax + (bx / ax) * d_pos), -(cx / ax + (bx / ax) * d_neg)\n",
        "  y_sol_pos, y_sol_neg = -(cy / ay + (by / ay) * d_pos), -(cy / ay + (by / ay) * d_neg) \n",
        "  z_sol_pos, z_sol_neg = -(cz / az + (bz / az) * d_pos), -(cz / az + (bz / az) * d_neg)\n",
        "\n",
        "  dis_pos = np.sqrt(x_sol_pos**2 + y_sol_pos**2 + z_sol_pos**2) - 6370\n",
        "  dis_neg = np.sqrt(x_sol_neg**2 + y_sol_neg**2 + z_sol_neg**2) - 6370\n",
        "  return x_sol_neg, y_sol_neg , z_sol_neg, dis_neg\n",
        "\n"
      ]
    },
    {
      "cell_type": "code",
      "execution_count": null,
      "metadata": {
        "colab": {
          "base_uri": "https://localhost:8080/"
        },
        "id": "VD9zhbc7l--v",
        "outputId": "28c77583-c844-4d5f-a737-819d7e6f964c"
      },
      "outputs": [
        {
          "output_type": "stream",
          "name": "stdout",
          "text": [
            "Maximum error is 0.016414542518759845, and EMF is 5.475302023361724\n"
          ]
        }
      ],
      "source": [
        "def EMF(delta_t):\n",
        "  actual_x = 0.0\n",
        "  actual_y = 0.0\n",
        "  actual_z = 6370\n",
        "  actual_d = 0.0001\n",
        "\n",
        "  P = 26570\n",
        "\n",
        "  maxerr_disp = [] # input error vector in the maximum error case\n",
        "  maxerr_vect = []  # calculated observer position in the maximum error case\n",
        "  maxerr = 0       # maximum position error (in individual coordinate)\n",
        "\n",
        "  for i in range(-1, 2):\n",
        "    for j in range(-1, 2):\n",
        "      for k in range(-1, 2):\n",
        "        for l in range(-1, 2):\n",
        "\n",
        "          # Initialize vector is close to actual value but off by 10km initially\n",
        "          init_vec = [10, 10, 6380, 0]\n",
        "\n",
        "          # Calculate time delays recorded by observer\n",
        "          t1 = Sat1.time + i * delta_t\n",
        "          t2 = Sat2.time + j * delta_t\n",
        "          t3 = Sat3.time + k * delta_t\n",
        "          t4 = Sat4.time + l * delta_t\n",
        "\n",
        "          init_vec[0], init_vec[1], init_vec[2], init_vec[3] = Quad(t1, t2, t3, t4)\n",
        "          err = np.max(np.abs([init_vec[0]-actual_x, init_vec[1]-actual_y, init_vec[2]-actual_z]))\n",
        "          if err > maxerr:\n",
        "                  maxerr_disp = np.array([i, j, k, l]) * delta_t;\n",
        "                  maxerr_vect = init_vec\n",
        "                  maxerr = err\n",
        "         \n",
        "  return maxerr, maxerr / (C * delta_t)\n",
        "\n",
        "maxerr, emf = EMF(10**-8)\n",
        "print(f\"Maximum error is {maxerr}, and EMF is {emf}\")"
      ]
    },
    {
      "cell_type": "markdown",
      "metadata": {
        "id": "KOfQr-C6NCkv"
      },
      "source": [
        "## Plotting the three satellites"
      ]
    },
    {
      "cell_type": "code",
      "execution_count": null,
      "metadata": {
        "colab": {
          "base_uri": "https://localhost:8080/",
          "height": 248
        },
        "id": "H7Ks9FwJNCAY",
        "outputId": "692f600c-defb-438a-84b4-3fcdcffa69e6"
      },
      "outputs": [
        {
          "output_type": "display_data",
          "data": {
            "text/plain": [
              "<Figure size 432x288 with 1 Axes>"
            ],
            "image/png": "[encoded data removed]"
          },
          "metadata": {
            "needs_background": "light"
          }
        }
      ],
      "source": [
        "fig = plt.figure()\n",
        " \n",
        "# Defining the axes with the projection as 3D so as to plot 3D graphs\n",
        "ax = plt.axes(projection=\"3d\")\n",
        " \n",
        "# creating a wide range of points x,y,z\n",
        "x= [Sat1.A, Sat2.A, Sat3.A, Sat4.A]\n",
        "y= [Sat1.B, Sat2.B, Sat3.B, Sat4.B]\n",
        "z= [Sat1.C, Sat2.C, Sat3.C, Sat4.C]\n",
        " \n",
        "# Plotting a scatter plot with X-coordinate, Y-coordinate and Z-coordinate respectively and defining the points color as cividis and defining c as z which basically is a \n",
        "# definition of 2D array in which rows are RGB or RGBA\n",
        "ax.scatter3D(x, y, z, c=z, cmap='gnuplot_r');\n",
        "plt.show()"
      ]
    },
    {
      "cell_type": "markdown",
      "metadata": {
        "id": "ZOWklgmUHaQL"
      },
      "source": [
        "# Activity 5"
      ]
    },
    {
      "cell_type": "markdown",
      "metadata": {
        "id": "yKk_kh72im_4"
      },
      "source": [
        "## Case 1: When the satellites are somewhat clustered."
      ]
    },
    {
      "cell_type": "code",
      "execution_count": null,
      "metadata": {
        "id": "C7iir7uiilRn"
      },
      "outputs": [],
      "source": [
        "# Initializing the Satellites\n",
        "class Satellite:\n",
        "  def __init__(self, d, idx, phi=None, theta=None):\n",
        "    P = 26570\n",
        "    dti=10**-8\n",
        "    if phi:\n",
        "      self.phi = phi\n",
        "    else:\n",
        "      self.phi=(np.pi/2)+(idx-1)*(5/100)*np.pi/2\n",
        "    if theta:\n",
        "      self.theta = theta\n",
        "    else:\n",
        "      self.theta= (idx-1)*(5/100)*2*np.pi\n",
        "    self.A=(P*np.cos(self.phi)*np.cos(self.theta))\n",
        "    self.B=(P*np.cos(self.phi)*np.sin(self.theta))\n",
        "    self.C=P*np.sin(self.phi)\n",
        "    self.R=np.sqrt(self.A**2+self.B**2+(self.C-6370)**2)\n",
        "    self.time=d+(self.R/C)\n",
        "  \n",
        "  def get_cords(self):\n",
        "    return self.A, self.B, self.C"
      ]
    },
    {
      "cell_type": "markdown",
      "metadata": {
        "id": "XHyPov-InjP8"
      },
      "source": [
        "### Delta t = 0"
      ]
    },
    {
      "cell_type": "code",
      "execution_count": null,
      "metadata": {
        "colab": {
          "base_uri": "https://localhost:8080/"
        },
        "id": "ody-PomvilOE",
        "outputId": "ec82b675-8090-4711-dcd4-826159cd779d"
      },
      "outputs": [
        {
          "output_type": "stream",
          "name": "stdout",
          "text": [
            "Max error 1.000444171950221e-11, and EMF is inf\n"
          ]
        },
        {
          "output_type": "stream",
          "name": "stderr",
          "text": [
            "/usr/local/lib/python3.7/dist-packages/ipykernel_launcher.py:34: RuntimeWarning: divide by zero encountered in double_scalars\n"
          ]
        }
      ],
      "source": [
        "Sat1 = Satellite(0.0001, 1, 0.5, 1.5)\n",
        "Sat2 = Satellite(0.0001, 2, 0.75, 2)\n",
        "Sat3 = Satellite(0.0001, 3, 1, 2.5)\n",
        "Sat4 = Satellite(0.0001, 4, 1.25, 3)\n",
        "max_error, emf  = EMF(0)\n",
        "print(f\"Max error {max_error}, and EMF is {emf}\")"
      ]
    },
    {
      "cell_type": "markdown",
      "metadata": {
        "id": "F5ql40qenlHb"
      },
      "source": [
        "### Delta t = 10^-8"
      ]
    },
    {
      "cell_type": "code",
      "execution_count": null,
      "metadata": {
        "colab": {
          "base_uri": "https://localhost:8080/"
        },
        "id": "Q-vKL7tiilKr",
        "outputId": "78f288c5-f92c-4b92-fb0f-9e038a950c06"
      },
      "outputs": [
        {
          "output_type": "stream",
          "name": "stdout",
          "text": [
            "Max error 0.2149067650352663, and EMF is 71.68518063095047\n"
          ]
        }
      ],
      "source": [
        "Sat1 = Satellite(0.0001, 1, 0.5, 1.5)\n",
        "Sat2 = Satellite(0.0001, 2, 0.75, 2)\n",
        "Sat3 = Satellite(0.0001, 3, 1, 2.5)\n",
        "Sat4 = Satellite(0.0001, 4, 1.25, 3)\n",
        "max_error, emf  = EMF(10**-8)\n",
        "print(f\"Max error {max_error}, and EMF is {emf}\")"
      ]
    },
    {
      "cell_type": "markdown",
      "metadata": {
        "id": "VQj35IoEntev"
      },
      "source": [
        "## Case 2: When the satellites are tightly clustered"
      ]
    },
    {
      "cell_type": "markdown",
      "metadata": {
        "id": "RsAGQS5ooZms"
      },
      "source": [
        "### Delta t = 0"
      ]
    },
    {
      "cell_type": "code",
      "execution_count": null,
      "metadata": {
        "colab": {
          "base_uri": "https://localhost:8080/"
        },
        "id": "B8wrIbW4ik-p",
        "outputId": "2a46ca5b-ca7d-4998-8e44-b48182cc6439"
      },
      "outputs": [
        {
          "output_type": "stream",
          "name": "stdout",
          "text": [
            "Max error 4.089997673872858e-09, and EMF is inf\n"
          ]
        },
        {
          "output_type": "stream",
          "name": "stderr",
          "text": [
            "/usr/local/lib/python3.7/dist-packages/ipykernel_launcher.py:34: RuntimeWarning: divide by zero encountered in double_scalars\n"
          ]
        }
      ],
      "source": [
        "Sat1 = Satellite(0.0001, 1)\n",
        "Sat2 = Satellite(0.0001, 2)\n",
        "Sat3 = Satellite(0.0001, 3)\n",
        "Sat4 = Satellite(0.0001, 4)\n",
        "max_error, emf  = EMF(0)\n",
        "print(f\"Max error {max_error}, and EMF is {emf}\")"
      ]
    },
    {
      "cell_type": "markdown",
      "metadata": {
        "id": "bxMYMlRBogBC"
      },
      "source": [
        "### Delta t = 10^-8"
      ]
    },
    {
      "cell_type": "code",
      "execution_count": null,
      "metadata": {
        "colab": {
          "base_uri": "https://localhost:8080/"
        },
        "id": "K31TgFbooOYO",
        "outputId": "07e7faab-00c0-4f45-cca0-96a8cb099649"
      },
      "outputs": [
        {
          "output_type": "stream",
          "name": "stdout",
          "text": [
            "Max error 7.527553158578485, and EMF is 2510.921458397224\n"
          ]
        }
      ],
      "source": [
        "Sat1 = Satellite(0.0001, 1)\n",
        "Sat2 = Satellite(0.0001, 2)\n",
        "Sat3 = Satellite(0.0001, 3)\n",
        "Sat4 = Satellite(0.0001, 4)\n",
        "max_error, emf  = EMF(10**-8)\n",
        "print(f\"Max error {max_error}, and EMF is {emf}\")"
      ]
    },
    {
      "cell_type": "markdown",
      "metadata": {
        "id": "6Vf0wwJzrwXI"
      },
      "source": [
        "# Activity 6"
      ]
    },
    {
      "cell_type": "code",
      "execution_count": null,
      "metadata": {
        "id": "pQhftQF2LorE"
      },
      "outputs": [],
      "source": [
        "#initializing the problem at hand\n",
        "class Satellite:\n",
        "  def __init__(self, idx, d):\n",
        "    P = 26570\n",
        "    dti=10**-4\n",
        "    self.phi=idx*np.pi/16\n",
        "    self.theta=(idx-1)*np.pi/4\n",
        "    self.A=(P*np.cos(self.phi)*np.cos(self.theta))\n",
        "    self.B=(P*np.cos(self.phi)*np.sin(self.theta))\n",
        "    self.C=P*np.sin(self.phi)\n",
        "    self.R=np.sqrt(self.A**2+self.B**2+(self.C-6370)**2)\n",
        "    self.time=d+(self.R/C)\n",
        "  \n",
        "  def get_cords(self):\n",
        "    return self.A, self.B, self.C\n",
        "\n",
        "Sat1 = Satellite(1, 0.0001)\n",
        "Sat2 = Satellite(2, 0.0001)\n",
        "Sat3 = Satellite(3, 0.0001)\n",
        "Sat4 = Satellite(4, 0.0001)\n",
        "Sat5 = Satellite(5, 0.0001)\n",
        "Sat6 = Satellite(6, 0.0001)\n",
        "Sat7 = Satellite(7, 0.0001)\n",
        "Sat8 = Satellite(8, 0.0001)"
      ]
    },
    {
      "cell_type": "markdown",
      "source": [
        "### We tried using the Quadratic but we were getting some errors. That's why we did it using the Multivariate Newton's method."
      ],
      "metadata": {
        "id": "vVlnqUxvEgDR"
      }
    },
    {
      "cell_type": "code",
      "execution_count": null,
      "metadata": {
        "colab": {
          "base_uri": "https://localhost:8080/"
        },
        "id": "XyrGKmWJL3Yo",
        "outputId": "8b8c0f3d-8a9b-4f8e-dad8-4f2482ec938f"
      },
      "outputs": [
        {
          "output_type": "execute_result",
          "data": {
            "text/plain": [
              "(6382.163630643575, 212.8860636862177)"
            ]
          },
          "metadata": {},
          "execution_count": 286
        }
      ],
      "source": [
        "def TimeEMF(delta_t, phi, theta):\n",
        "  actual_x = 0.0\n",
        "  actual_y = 0.0\n",
        "  actual_z = 6370\n",
        "  actual_d = 0.0001\n",
        "\n",
        "  P = 26570\n",
        "\n",
        "  maxerr_disp = [] # input error vector in the maximum error case\n",
        "  maxerr_vect = []  # calculated observer position in the maximum error case\n",
        "  maxerr = 0       # maximum position error (in individual coordinate)\n",
        "\n",
        "  # Looping on all the combinations of Time values from the question.\n",
        "  for i in range(-1, 2):\n",
        "    for j in range(-1, 2):\n",
        "      for k in range(-1, 2):\n",
        "        for l in range(-1, 2):\n",
        "          for M in range(-1,2):\n",
        "            for N in range(-1, 2):\n",
        "              for O in range(-1, 2):\n",
        "                for P in range(-1, 2):\n",
        "                  # Calculate time delays recorded by observer\n",
        "                  t1 = Sat1.time + i * delta_t\n",
        "                  t2 = Sat2.time + j * delta_t\n",
        "                  t3 = Sat3.time + k * delta_t\n",
        "                  t4 = Sat4.time + l * delta_t\n",
        "                  t5 = Sat5.time + M * delta_t\n",
        "                  t6 = Sat6.time + N * delta_t\n",
        "                  t7 = Sat7.time + O * delta_t\n",
        "                  t8 = Sat8.time + P * delta_t\n",
        "\n",
        "          # Initialize vector is close to actual value but off by 10km initially\n",
        "          init_vec = [0.19634954084,0.39269908169,0.5890486225,0.7853981634,0.9817477042,1.1780972451,1.3744467859,1.5707963268]\n",
        "\n",
        "          # Recursive Multivariate Newton's method\n",
        "          for iter in range(20):\n",
        "            x = init_vec[0]\n",
        "            y = init_vec[1]\n",
        "            z = init_vec[2]\n",
        "            d = init_vec[3]\n",
        "            \n",
        "            f1 = np.array((x- Sat1.A)**2 + (y- Sat1.B)**2 + (z-Sat1.C)**2 - (C*np.array([t1-d]))**2)\n",
        "            f2 = np.array((x-Sat2.A)**2 + (y-Sat2.B)**2 + (z-Sat2.C)**2 - (C*np.array([t2-d]))**2)\n",
        "            f3 = np.array((x-Sat3.A)**2 + (y-Sat3.B)**2 + (z-Sat3.C)**2 - (C*np.array([t3-d]))**2)\n",
        "            f4 = np.array((x-Sat4.A)**2 + (y-Sat4.B)**2 + (z-Sat4.C)**2 - (C*np.array([t4-d]))**2)\n",
        "            f5 = np.array((x-Sat5.A)**2 + (y-Sat5.B)**2 + (z-Sat5.C)**2 - (C*np.array([t5-d]))**2)\n",
        "            f6 = np.array((x-Sat6.A)**2 + (y-Sat6.B)**2 + (z-Sat6.C)**2 - (C*np.array([t6-d]))**2)\n",
        "            f7 = np.array((x-Sat7.A)**2 + (y-Sat7.B)**2 + (z-Sat7.C)**2 - (C*np.array([t7-d]))**2)\n",
        "            f8 = np.array((x-Sat8.A)**2 + (y-Sat8.B)**2 + (z-Sat8.C)**2 - (C*np.array([t8-d]))**2)\n",
        "            \n",
        "            f_sol = np.array([f1, f2, f3, f4,f5,f6,f7,f8])\n",
        "            Jacobian = np.array([[x - Sat1.A, y - Sat1.B, z - Sat1.C, C**2*(t1 - d)], \n",
        "                         [x - Sat2.A, y - Sat2.B, z - Sat2.C, C**2*(t2 - d)],\n",
        "                         [x - Sat3.A, y - Sat3.B, z - Sat3.C, C**2*(t3 - d)],\n",
        "                         [x - Sat4.A, y - Sat4.B, z - Sat4.C, C**2*(t4 - d)],\n",
        "                         [x - Sat5.A, y - Sat5.B, z - Sat5.C, C**2*(t5 - d)],\n",
        "                         [x - Sat6.A, y - Sat6.B, z - Sat6.C, C**2*(t6 - d)],\n",
        "                         [x - Sat7.A, y - Sat7.B, z - Sat7.C, C**2*(t7 - d)],\n",
        "                         [x - Sat8.A, y - Sat8.B, z - Sat8.C, C**2*(t8 - d)]])\n",
        "\n",
        "            \n",
        "            s = Jacobian/(-f_sol)\n",
        "            init_vec += np.sum(s, axis=1)\n",
        "          err = np.max(np.abs([init_vec[0]-actual_x, init_vec[1]-actual_y, init_vec[2]-actual_z]))\n",
        "          if err > maxerr:\n",
        "                  maxerr_disp = np.array([i, j, k, l,M,N,O,P]) * delta_t;\n",
        "                  maxerr_vect = init_vec\n",
        "                  maxerr = err\n",
        "         \n",
        "  return maxerr, maxerr / (C * delta_t)\n",
        "\n",
        "maxerror, condNumber = TimeEMF(10**-4, np.pi/4, np.pi/2)\n",
        "maxerror, condNumber"
      ]
    },
    {
      "cell_type": "code",
      "execution_count": null,
      "metadata": {
        "id": "X7VZImYmL6MS",
        "colab": {
          "base_uri": "https://localhost:8080/",
          "height": 248
        },
        "outputId": "7418e856-c4ca-44ca-8751-b191745ce7fc"
      },
      "outputs": [
        {
          "output_type": "display_data",
          "data": {
            "text/plain": [
              "<Figure size 432x288 with 1 Axes>"
            ],
            "image/png": "[encoded data removed]"
          },
          "metadata": {
            "needs_background": "light"
          }
        }
      ],
      "source": [
        "fig = plt.figure()\n",
        " \n",
        "# Defining the axes with the projection as 3D so as to plot 3D graphs\n",
        "ax = plt.axes(projection=\"3d\")\n",
        " \n",
        "# creating a wide range of points x,y,z\n",
        "x= [Sat1.A, Sat2.A, Sat3.A, Sat4.A,Sat5.A, Sat6.A, Sat7.A, Sat8.A]\n",
        "y= [Sat1.B, Sat2.B, Sat3.B, Sat4.B,Sat5.B, Sat6.B, Sat7.B, Sat8.B]\n",
        "z= [Sat1.C, Sat2.C, Sat3.C, Sat4.C,Sat5.C, Sat6.C, Sat7.C, Sat8.C]\n",
        " \n",
        "# Plotting a scatter plot with X-coordinate, Y-coordinate and Z-coordinate respectively and defining the points color as cividis and defining c as z which basically is a \n",
        "# definition of 2D array in which rows are RGB or RGBA\n",
        "ax.scatter3D(x, y, z, c=z, cmap='gnuplot_r');\n",
        "plt.show()"
      ]
    },
    {
      "cell_type": "markdown",
      "metadata": {
        "id": "M6Qd1481vs4V"
      },
      "source": [
        "# References\n",
        "- Solve Linear Equations using Determinants method: https://byjus.com/jee/system-of-linear-equations-using-determinants/\n",
        "\n",
        "- Multivariate Newton's method: https://drlvk.github.io/nm/section-multivariate-newton.html\n",
        "\n",
        "- Goerge Mason: https://mason.gmu.edu/~acurran3/RealityCheck4/RC_4.html\n",
        "\n",
        "- https://www.codespeedy.com/calculate-derivative-functions-in-python/\n",
        "- https://stackoverflow.com/questions/61116868/python-numpy-linalg-linalgerror-last-2-dimensions-of-the-array-must-be-square\n",
        "\n",
        "- https://stackoverflow.com/questions/49553006/compute-the-jacobian-matrix-in-python"
      ]
    },
    {
      "cell_type": "code",
      "source": [],
      "metadata": {
        "id": "GX3b6id1GVnK"
      },
      "execution_count": null,
      "outputs": []
    }
  ],
  "metadata": {
    "colab": {
      "provenance": []
    },
    "kernelspec": {
      "display_name": "Python 3",
      "name": "python3"
    },
    "language_info": {
      "name": "python"
    }
  },
  "nbformat": 4,
  "nbformat_minor": 0
}
